{
 "cells": [
  {
   "cell_type": "code",
   "execution_count": 18,
   "metadata": {},
   "outputs": [
    {
     "ename": "ModuleNotFoundError",
     "evalue": "No module named 'seaborn'",
     "output_type": "error",
     "traceback": [
      "\u001b[1;31m---------------------------------------------------------------------------\u001b[0m",
      "\u001b[1;31mModuleNotFoundError\u001b[0m                       Traceback (most recent call last)",
      "\u001b[1;32mc:\\Users\\shaha\\OneDrive\\Documents\\TransportationWork\\1.ipynb Cell 1\u001b[0m in \u001b[0;36m<cell line: 4>\u001b[1;34m()\u001b[0m\n\u001b[0;32m      <a href='vscode-notebook-cell:/c%3A/Users/shaha/OneDrive/Documents/TransportationWork/1.ipynb#ch0000000?line=1'>2</a>\u001b[0m \u001b[39mfrom\u001b[39;00m \u001b[39mcollections\u001b[39;00m \u001b[39mimport\u001b[39;00m defaultdict\n\u001b[0;32m      <a href='vscode-notebook-cell:/c%3A/Users/shaha/OneDrive/Documents/TransportationWork/1.ipynb#ch0000000?line=2'>3</a>\u001b[0m \u001b[39mimport\u001b[39;00m \u001b[39mmatplotlib\u001b[39;00m\u001b[39m.\u001b[39;00m\u001b[39mpyplot\u001b[39;00m \u001b[39mas\u001b[39;00m \u001b[39mplt\u001b[39;00m\n\u001b[1;32m----> <a href='vscode-notebook-cell:/c%3A/Users/shaha/OneDrive/Documents/TransportationWork/1.ipynb#ch0000000?line=3'>4</a>\u001b[0m \u001b[39mimport\u001b[39;00m \u001b[39mseaborn\u001b[39;00m \u001b[39mas\u001b[39;00m \u001b[39msns\u001b[39;00m\n",
      "\u001b[1;31mModuleNotFoundError\u001b[0m: No module named 'seaborn'"
     ]
    }
   ],
   "source": [
    "from tkinter import filedialog as fd\n",
    "from collections import defaultdict\n",
    "import matplotlib.pyplot as plt\n",
    "import seaborn as sns\n"
   ]
  },
  {
   "cell_type": "code",
   "execution_count": 6,
   "metadata": {},
   "outputs": [],
   "source": [
    "# Select the file\n",
    "filename = fd.askopenfilename()\n",
    "# Using readline()\n",
    "file1 = open(filename, 'r')\n",
    "count = 0\n",
    "dic = defaultdict(int)\n",
    "while True:\n",
    "    count += 1\n",
    "    # Get next line from file\n",
    "    line = file1.readline()\n",
    "    if not line:\n",
    "        break\n",
    "    fields = line.split(\",\")\n",
    "    if fields[1].strip()==\"\\\"20120707\\\"\":\n",
    "        dic[fields[0]]+=1\n",
    "    \n",
    "    #print(\"Line{}: {}\".format(count, line.strip()))\n",
    "\n",
    "file1.close()"
   ]
  },
  {
   "cell_type": "code",
   "execution_count": 17,
   "metadata": {},
   "outputs": [
    {
     "name": "stdout",
     "output_type": "stream",
     "text": [
      "Total number of call in a day:\n",
      "30067499\n",
      "Total number of person:\n",
      "2701199\n",
      "Average call per person per day:\n",
      "11\n"
     ]
    }
   ],
   "source": [
    "print(\"Total number of call in a day:\")\n",
    "print(sum(dic.values()))\n",
    "print(\"Total number of person:\")\n",
    "print(len(dic.keys()))\n",
    "print(\"Average call per person per day:\")\n",
    "print(sum(dic.values())//len(dic.keys()))"
   ]
  },
  {
   "cell_type": "code",
   "execution_count": 26,
   "metadata": {},
   "outputs": [
    {
     "data": {
      "text/plain": [
       "(array([0.        , 0.        , 0.00624093, 0.        , 0.42845883,\n",
       "        0.        , 0.00656932, 0.        , 0.31373596, 0.        ,\n",
       "        0.00694742, 0.        , 0.24082794, 0.        , 0.00645936,\n",
       "        0.        , 0.18662312, 0.        , 0.00608427, 0.        ,\n",
       "        0.14586199, 0.        , 0.00557888, 0.        , 0.1145195 ,\n",
       "        0.        , 0.00504788, 0.        , 0.09077896, 0.        ,\n",
       "        0.00454399, 0.        , 0.07284024, 0.        , 0.00406045,\n",
       "        0.        , 0.05839481, 0.        , 0.00355732, 0.        ,\n",
       "        0.04754059, 0.        , 0.00321085, 0.        , 0.03881112,\n",
       "        0.        , 0.00283124, 0.        , 0.03206028, 0.        ,\n",
       "        0.00258495, 0.        , 0.02663129, 0.        , 0.00232058,\n",
       "        0.        , 0.0218538 , 0.        , 0.00204416, 0.        ,\n",
       "        0.01820159, 0.        , 0.00180088, 0.        , 0.0156912 ,\n",
       "        0.        , 0.00154178, 0.        , 0.01298349, 0.        ,\n",
       "        0.00145592, 0.        , 0.0110154 , 0.        , 0.00131206,\n",
       "        0.        , 0.0095045 , 0.        , 0.00119908, 0.        ,\n",
       "        0.00802976, 0.        , 0.00098141, 0.        , 0.00680507,\n",
       "        0.        , 0.00091211, 0.        , 0.00580408, 0.        ,\n",
       "        0.00079085, 0.        , 0.00522789, 0.        , 0.00073361,\n",
       "        0.        , 0.00447018, 0.        , 0.00066582, 0.00385332]),\n",
       " array([ 0. ,  0.5,  1. ,  1.5,  2. ,  2.5,  3. ,  3.5,  4. ,  4.5,  5. ,\n",
       "         5.5,  6. ,  6.5,  7. ,  7.5,  8. ,  8.5,  9. ,  9.5, 10. , 10.5,\n",
       "        11. , 11.5, 12. , 12.5, 13. , 13.5, 14. , 14.5, 15. , 15.5, 16. ,\n",
       "        16.5, 17. , 17.5, 18. , 18.5, 19. , 19.5, 20. , 20.5, 21. , 21.5,\n",
       "        22. , 22.5, 23. , 23.5, 24. , 24.5, 25. , 25.5, 26. , 26.5, 27. ,\n",
       "        27.5, 28. , 28.5, 29. , 29.5, 30. , 30.5, 31. , 31.5, 32. , 32.5,\n",
       "        33. , 33.5, 34. , 34.5, 35. , 35.5, 36. , 36.5, 37. , 37.5, 38. ,\n",
       "        38.5, 39. , 39.5, 40. , 40.5, 41. , 41.5, 42. , 42.5, 43. , 43.5,\n",
       "        44. , 44.5, 45. , 45.5, 46. , 46.5, 47. , 47.5, 48. , 48.5, 49. ,\n",
       "        49.5, 50. ]),\n",
       " <BarContainer object of 100 artists>)"
      ]
     },
     "execution_count": 26,
     "metadata": {},
     "output_type": "execute_result"
    },
    {
     "data": {
      "image/png": "[encoded data removed]",
      "text/plain": [
       "<Figure size 432x288 with 1 Axes>"
      ]
     },
     "metadata": {
      "needs_background": "light"
     },
     "output_type": "display_data"
    }
   ],
   "source": [
    "fig,ax = plt.subplots() # Instantiate figure and axes object\n",
    "ax.hist(dic.values(), range=[0, 50],label=\"nums1\", density=True, bins = int(100))\n"
   ]
  }
 ],
 "metadata": {
  "kernelspec": {
   "display_name": "Python 3.10.5 64-bit",
   "language": "python",
   "name": "python3"
  },
  "language_info": {
   "codemirror_mode": {
    "name": "ipython",
    "version": 3
   },
   "file_extension": ".py",
   "mimetype": "text/x-python",
   "name": "python",
   "nbconvert_exporter": "python",
   "pygments_lexer": "ipython3",
   "version": "3.10.5"
  },
  "orig_nbformat": 4,
  "vscode": {
   "interpreter": {
    "hash": "369f2c481f4da34e4445cda3fffd2e751bd1c4d706f27375911949ba6bb62e1c"
   }
  }
 },
 "nbformat": 4,
 "nbformat_minor": 2
}
