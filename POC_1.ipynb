{
 "cells": [
  {
   "cell_type": "code",
   "execution_count": 1,
   "metadata": {},
   "outputs": [],
   "source": [
    "# Pakcage import\n",
    "from tkinter import filedialog as fd\n",
    "from collections import defaultdict\n",
    "import matplotlib.pyplot as plt"
   ]
  },
  {
   "cell_type": "code",
   "execution_count": 6,
   "metadata": {},
   "outputs": [],
   "source": [
    "# Select the file\n",
    "filename = fd.askopenfilename()\n",
    "# Using readline() to read the file line by line and process\n",
    "file1 = open(filename, 'r')\n",
    "count = 0\n",
    "# take a dictionary to same the count for the no of calls\n",
    "dic = defaultdict(int)\n",
    "# What date do you want to process\n",
    "dt = \"\\\"20120704\\\"\"   #Wednesday\n",
    "while True:\n",
    "    count += 1\n",
    "    # Get next line from file\n",
    "    line = file1.readline()\n",
    "    if not line:\n",
    "        break\n",
    "    fields = line.split(\",\")\n",
    "    if fields[1].strip()==dt:\n",
    "        dic[fields[0]]+=1\n",
    "file1.close()"
   ]
  },
  {
   "cell_type": "code",
   "execution_count": 7,
   "metadata": {},
   "outputs": [],
   "source": [
    "## The input data has duplicate entries. So the actual count would be half of it\n",
    "for key in dic.keys():\n",
    "    dic[key] = dic[key]//2"
   ]
  },
  {
   "cell_type": "code",
   "execution_count": 8,
   "metadata": {},
   "outputs": [
    {
     "name": "stdout",
     "output_type": "stream",
     "text": [
      "Total number of call in a day:\n",
      "16979159\n",
      "Total number of person:\n",
      "2819149\n",
      "Average call per person per day:\n",
      "6\n"
     ]
    }
   ],
   "source": [
    "print(\"Total number of call in a day:\")\n",
    "print(sum(dic.values()))\n",
    "print(\"Total number of person:\")\n",
    "print(len(dic.keys()))\n",
    "print(\"Average call per person per day:\")\n",
    "print(sum(dic.values())//len(dic.keys()))"
   ]
  },
  {
   "cell_type": "code",
   "execution_count": 10,
   "metadata": {},
   "outputs": [
    {
     "data": {
      "text/plain": [
       "(array([0.        , 0.20259767, 0.15168993, 0.11893392, 0.0936464 ,\n",
       "        0.07425625, 0.05937685, 0.04779573, 0.03909984, 0.03192247,\n",
       "        0.02614737, 0.02199955, 0.01835257, 0.01533865, 0.0130321 ,\n",
       "        0.01111548, 0.0094171 , 0.00813249, 0.0069801 , 0.0061238 ,\n",
       "        0.00525542, 0.00458965, 0.00399035, 0.00349414, 0.00307079,\n",
       "        0.00269436, 0.00235454, 0.00212563, 0.00187397, 0.0017101 ,\n",
       "        0.00148367, 0.00127751, 0.00117549, 0.00104931, 0.00093805,\n",
       "        0.00084847, 0.00073046, 0.00068816, 0.00061743, 0.00056446,\n",
       "        0.00050475, 0.00043614, 0.00041837, 0.00037821, 0.00032489,\n",
       "        0.00031138, 0.00027868, 0.00024384, 0.00020652, 0.000407  ]),\n",
       " array([ 0.,  1.,  2.,  3.,  4.,  5.,  6.,  7.,  8.,  9., 10., 11., 12.,\n",
       "        13., 14., 15., 16., 17., 18., 19., 20., 21., 22., 23., 24., 25.,\n",
       "        26., 27., 28., 29., 30., 31., 32., 33., 34., 35., 36., 37., 38.,\n",
       "        39., 40., 41., 42., 43., 44., 45., 46., 47., 48., 49., 50.]),\n",
       " <BarContainer object of 50 artists>)"
      ]
     },
     "execution_count": 10,
     "metadata": {},
     "output_type": "execute_result"
    },
    {
     "data": {
      "image/png": "[encoded data removed]",
      "text/plain": [
       "<Figure size 432x288 with 1 Axes>"
      ]
     },
     "metadata": {
      "needs_background": "light"
     },
     "output_type": "display_data"
    }
   ],
   "source": [
    "# Draw the distribution curve\n",
    "fig,ax = plt.subplots() # Instantiate figure and axes object\n",
    "ax.hist(dic.values(), range=[0, 50],label=\"nums1\", density=True, bins = int(50))"
   ]
  }
 ],
 "metadata": {
  "kernelspec": {
   "display_name": "Python 3.10.5 64-bit",
   "language": "python",
   "name": "python3"
  },
  "language_info": {
   "codemirror_mode": {
    "name": "ipython",
    "version": 3
   },
   "file_extension": ".py",
   "mimetype": "text/x-python",
   "name": "python",
   "nbconvert_exporter": "python",
   "pygments_lexer": "ipython3",
   "version": "3.10.5"
  },
  "orig_nbformat": 4,
  "vscode": {
   "interpreter": {
    "hash": "369f2c481f4da34e4445cda3fffd2e751bd1c4d706f27375911949ba6bb62e1c"
   }
  }
 },
 "nbformat": 4,
 "nbformat_minor": 2
}
