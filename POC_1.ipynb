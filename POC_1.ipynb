{
 "cells": [
  {
   "cell_type": "code",
   "execution_count": 1,
   "metadata": {},
   "outputs": [],
   "source": [
    "# Pakcage import\n",
    "from tkinter import filedialog as fd\n",
    "from collections import defaultdict\n",
    "import matplotlib.pyplot as plt"
   ]
  },
  {
   "cell_type": "code",
   "execution_count": 2,
   "metadata": {},
   "outputs": [],
   "source": [
    "# Select the file\n",
    "filename = fd.askopenfilename()\n",
    "# Using readline() to read the file line by line and process\n",
    "file1 = open(filename, 'r')\n",
    "count = 0\n",
    "# take a dictionary to same the count for the no of calls\n",
    "dic = defaultdict(int)\n",
    "# What date do you want to process\n",
    "dt = \"\\\"20120707\\\"\"\n",
    "while True:\n",
    "    count += 1\n",
    "    # Get next line from file\n",
    "    line = file1.readline()\n",
    "    if not line:\n",
    "        break\n",
    "    fields = line.split(\",\")\n",
    "    if fields[1].strip()==dt:\n",
    "        dic[fields[0]]+=1\n",
    "file1.close()"
   ]
  },
  {
   "cell_type": "code",
   "execution_count": 3,
   "metadata": {},
   "outputs": [],
   "source": [
    "## The input data has duplicate entries. So the actual count would be half of it\n",
    "for key in dic.keys():\n",
    "    dic[key] = dic[key]//2"
   ]
  },
  {
   "cell_type": "code",
   "execution_count": 4,
   "metadata": {},
   "outputs": [
    {
     "name": "stdout",
     "output_type": "stream",
     "text": [
      "Total number of call in a day:\n",
      "14976984\n",
      "Total number of person:\n",
      "2701199\n",
      "Average call per person per day:\n",
      "5\n"
     ]
    }
   ],
   "source": [
    "print(\"Total number of call in a day:\")\n",
    "print(sum(dic.values()))\n",
    "print(\"Total number of person:\")\n",
    "print(len(dic.keys()))\n",
    "print(\"Average call per person per day:\")\n",
    "print(sum(dic.values())//len(dic.keys()))"
   ]
  },
  {
   "cell_type": "code",
   "execution_count": 5,
   "metadata": {},
   "outputs": [
    {
     "data": {
      "text/plain": [
       "(array([6.14250296e-03, 0.00000000e+00, 4.28167149e-01, 0.00000000e+00,\n",
       "        3.15625761e-01, 0.00000000e+00, 2.43387228e-01, 0.00000000e+00,\n",
       "        1.89668126e-01, 0.00000000e+00, 1.49052438e-01, 0.00000000e+00,\n",
       "        1.17681639e-01, 0.00000000e+00, 9.38195790e-02, 0.00000000e+00,\n",
       "        7.56878532e-02, 0.00000000e+00, 6.09750538e-02, 0.00000000e+00,\n",
       "        4.99510179e-02, 0.00000000e+00, 4.09856026e-02, 0.00000000e+00,\n",
       "        3.40988234e-02, 0.00000000e+00, 2.84952536e-02, 0.00000000e+00,\n",
       "        2.35210568e-02, 0.00000000e+00, 1.96869963e-02, 0.00000000e+00,\n",
       "        1.69611957e-02, 0.00000000e+00, 1.42116732e-02, 0.00000000e+00,\n",
       "        1.21330372e-02, 0.00000000e+00, 1.05347706e-02, 0.00000000e+00,\n",
       "        8.86904482e-03, 0.00000000e+00, 7.59547252e-03, 0.00000000e+00,\n",
       "        6.49091913e-03, 0.00000000e+00, 5.86747657e-03, 0.00000000e+00,\n",
       "        5.05499972e-03, 0.00000000e+00, 4.36706311e-03, 0.00000000e+00,\n",
       "        3.76660120e-03, 0.00000000e+00, 3.29957527e-03, 0.00000000e+00,\n",
       "        2.86071915e-03, 0.00000000e+00, 2.58421015e-03, 0.00000000e+00,\n",
       "        2.26173986e-03, 0.00000000e+00, 1.96892202e-03, 0.00000000e+00,\n",
       "        1.76876805e-03, 0.00000000e+00, 1.57528588e-03, 0.00000000e+00,\n",
       "        1.41590401e-03, 0.00000000e+00, 1.22390446e-03, 0.00000000e+00,\n",
       "        1.15051467e-03, 0.00000000e+00, 9.13295153e-04, 0.00000000e+00,\n",
       "        8.33974876e-04, 0.00000000e+00, 7.68739508e-04, 0.00000000e+00,\n",
       "        6.63473346e-04, 0.00000000e+00, 6.16770753e-04, 0.00000000e+00,\n",
       "        5.23365567e-04, 0.00000000e+00, 4.76662974e-04, 0.00000000e+00,\n",
       "        4.06979740e-04, 0.00000000e+00, 3.87705654e-04, 0.00000000e+00,\n",
       "        3.66207635e-04, 0.00000000e+00, 3.38779127e-04, 0.00000000e+00,\n",
       "        2.94300467e-04, 0.00000000e+00, 2.61682783e-04, 2.40184764e-04]),\n",
       " array([ 0. ,  0.5,  1. ,  1.5,  2. ,  2.5,  3. ,  3.5,  4. ,  4.5,  5. ,\n",
       "         5.5,  6. ,  6.5,  7. ,  7.5,  8. ,  8.5,  9. ,  9.5, 10. , 10.5,\n",
       "        11. , 11.5, 12. , 12.5, 13. , 13.5, 14. , 14.5, 15. , 15.5, 16. ,\n",
       "        16.5, 17. , 17.5, 18. , 18.5, 19. , 19.5, 20. , 20.5, 21. , 21.5,\n",
       "        22. , 22.5, 23. , 23.5, 24. , 24.5, 25. , 25.5, 26. , 26.5, 27. ,\n",
       "        27.5, 28. , 28.5, 29. , 29.5, 30. , 30.5, 31. , 31.5, 32. , 32.5,\n",
       "        33. , 33.5, 34. , 34.5, 35. , 35.5, 36. , 36.5, 37. , 37.5, 38. ,\n",
       "        38.5, 39. , 39.5, 40. , 40.5, 41. , 41.5, 42. , 42.5, 43. , 43.5,\n",
       "        44. , 44.5, 45. , 45.5, 46. , 46.5, 47. , 47.5, 48. , 48.5, 49. ,\n",
       "        49.5, 50. ]),\n",
       " <BarContainer object of 100 artists>)"
      ]
     },
     "execution_count": 5,
     "metadata": {},
     "output_type": "execute_result"
    },
    {
     "data": {
      "image/png": "[encoded data removed]",
      "text/plain": [
       "<Figure size 432x288 with 1 Axes>"
      ]
     },
     "metadata": {
      "needs_background": "light"
     },
     "output_type": "display_data"
    }
   ],
   "source": [
    "# Draw the distribution curve\n",
    "fig,ax = plt.subplots() # Instantiate figure and axes object\n",
    "ax.hist(dic.values(), range=[0, 50],label=\"nums1\", density=True, bins = int(100))"
   ]
  }
 ],
 "metadata": {
  "kernelspec": {
   "display_name": "Python 3.10.5 64-bit",
   "language": "python",
   "name": "python3"
  },
  "language_info": {
   "codemirror_mode": {
    "name": "ipython",
    "version": 3
   },
   "file_extension": ".py",
   "mimetype": "text/x-python",
   "name": "python",
   "nbconvert_exporter": "python",
   "pygments_lexer": "ipython3",
   "version": "3.10.5"
  },
  "orig_nbformat": 4,
  "vscode": {
   "interpreter": {
    "hash": "369f2c481f4da34e4445cda3fffd2e751bd1c4d706f27375911949ba6bb62e1c"
   }
  }
 },
 "nbformat": 4,
 "nbformat_minor": 2
}
